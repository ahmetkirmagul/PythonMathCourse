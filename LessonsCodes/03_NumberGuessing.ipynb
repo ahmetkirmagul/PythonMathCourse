{
 "cells": [
  {
   "cell_type": "code",
   "execution_count": null,
   "id": "c4b1034c",
   "metadata": {},
   "outputs": [
    {
     "name": "stdout",
     "output_type": "stream",
     "text": [
      "1.|(10) Bigger than that!\n",
      "2.|(20) Bigger than that!\n",
      "3.|(30) Bigger than that!\n",
      "4.|(40) Smaller than that!\n",
      "5.|(35) Bigger than that!\n",
      "6.|(36) Bigger than that!\n",
      "7.|(37) Bigger than that!\n",
      "Congratulations! It's 38!\n",
      "You found it within 8 guesses!\n",
      "<3<3<3<3<3<3<3<3<3<3<3<3<3<3<3<3<3<3<3<3<3<3<3<3<3<3<3<3<3<3<3<3<3<3<3<3<3<3\n"
     ]
    }
   ],
   "source": [
    "from numpy import random #importing numpy.random library\n",
    "\n",
    "number = random.randint(0,101) #generating a random number\n",
    "guess,counter=101,0\n",
    "while guess!=number:\n",
    "    guess=int(input(\"Guess between 0-100:\")) #taking user guess as input\n",
    "    counter+=1 #counting total number of tries\n",
    "    #Specifying the inequality of the guess and the random generated number\n",
    "    if guess>number:\n",
    "        print(\"%g.|(%g) Smaller than that!\"%(counter,guess))\n",
    "    elif guess<number:\n",
    "        print(\"%g.|(%g) Bigger than that!\"%(counter,guess))\n",
    "#if guess=number while loop breaks so user wins.\n",
    "print(\"Congratulations! It's %g!\"%number)\n",
    "print(\"You found it within %g guesses!\"%counter)\n",
    "print(\"<3\"*number)\n"
   ]
  }
 ],
 "metadata": {
  "kernelspec": {
   "display_name": "Python 3",
   "language": "python",
   "name": "python3"
  },
  "language_info": {
   "codemirror_mode": {
    "name": "ipython",
    "version": 3
   },
   "file_extension": ".py",
   "mimetype": "text/x-python",
   "name": "python",
   "nbconvert_exporter": "python",
   "pygments_lexer": "ipython3",
   "version": "3.11.0"
  }
 },
 "nbformat": 4,
 "nbformat_minor": 5
}
