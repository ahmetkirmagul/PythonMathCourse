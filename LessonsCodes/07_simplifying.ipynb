{
 "cells": [
  {
   "cell_type": "code",
   "execution_count": 1,
   "id": "bc3c75c4",
   "metadata": {},
   "outputs": [],
   "source": [
    "import sympy as sym\n",
    "import numpy as np\n",
    "from IPython.display import display,Math"
   ]
  },
  {
   "cell_type": "code",
   "execution_count": 2,
   "id": "00f1ac8b",
   "metadata": {},
   "outputs": [
    {
     "data": {
      "text/latex": [
       "$\\displaystyle \\frac{\\left(3 w^{6} + \\left(- w^{3} \\left(w - 4\\right) + w + 1\\right)^{3}\\right) \\left(y + z\\right)}{w^{6}}$"
      ],
      "text/plain": [
       "<IPython.core.display.Math object>"
      ]
     },
     "metadata": {},
     "output_type": "display_data"
    }
   ],
   "source": [
    "x,y,z,w = sym.symbols('x y z w')\n",
    "\n",
    "x = w*(4-w)+((1+w)/w**2)\n",
    "f1 = x*(y+z)\n",
    "f2 = (3/x)+x**2\n",
    "\n",
    "display(Math(sym.latex(sym.simplify(f1*f2))))"
   ]
  },
  {
   "cell_type": "code",
   "execution_count": 3,
   "id": "6f9cfc1f",
   "metadata": {},
   "outputs": [
    {
     "data": {
      "text/latex": [
       "$\\displaystyle t \\left(4 - 6 t\\right) + 3 t \\Longleftrightarrow - 6 t^{2} + 7 t$"
      ],
      "text/plain": [
       "<IPython.core.display.Math object>"
      ]
     },
     "metadata": {},
     "output_type": "display_data"
    },
    {
     "data": {
      "text/latex": [
       "$\\displaystyle - t \\left(\\frac{2}{t} + \\frac{4}{t^{2}}\\right) + \\frac{t + 4}{4 t} \\Longleftrightarrow - \\frac{7}{4} - \\frac{3}{t}$"
      ],
      "text/plain": [
       "<IPython.core.display.Math object>"
      ]
     },
     "metadata": {},
     "output_type": "display_data"
    },
    {
     "data": {
      "text/latex": [
       "$\\displaystyle \\frac{\\left(t - 3\\right) \\left(t + 3\\right)}{9} \\Longleftrightarrow \\frac{t^{2}}{9} - 1$"
      ],
      "text/plain": [
       "<IPython.core.display.Math object>"
      ]
     },
     "metadata": {},
     "output_type": "display_data"
    }
   ],
   "source": [
    "t = sym.symbols('t')\n",
    "\n",
    "e1 = 2*t + t*(4-6*t) + t\n",
    "e2 = -t*(2/t+4/t**2)+(4+t)/(4*t)\n",
    "e3 = (t+3)*(t-3)*t*(1/(9*t))\n",
    "\n",
    "listOfEq = [e1,e2,e3]\n",
    "\n",
    "for i in range(0,len(listOfEq)):\n",
    "    display(Math(\"%s \\\\Longleftrightarrow %s\" %(sym.latex(listOfEq[i]),sym.latex(sym.expand(listOfEq[i])))))"
   ]
  }
 ],
 "metadata": {
  "kernelspec": {
   "display_name": "Python 3",
   "language": "python",
   "name": "python3"
  },
  "language_info": {
   "codemirror_mode": {
    "name": "ipython",
    "version": 3
   },
   "file_extension": ".py",
   "mimetype": "text/x-python",
   "name": "python",
   "nbconvert_exporter": "python",
   "pygments_lexer": "ipython3",
   "version": "3.11.0"
  }
 },
 "nbformat": 4,
 "nbformat_minor": 5
}
