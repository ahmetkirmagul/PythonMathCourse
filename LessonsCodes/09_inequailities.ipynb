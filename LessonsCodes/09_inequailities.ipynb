{
 "cells": [
  {
   "cell_type": "code",
   "execution_count": 2,
   "id": "d941e1ed",
   "metadata": {},
   "outputs": [],
   "source": [
    "import sympy as sym\n",
    "from IPython.display import display,Math"
   ]
  },
  {
   "cell_type": "code",
   "execution_count": 3,
   "id": "0a94cd55",
   "metadata": {},
   "outputs": [
    {
     "data": {
      "text/latex": [
       "$\\displaystyle 2 < x \\wedge x < \\infty$"
      ],
      "text/plain": [
       "<IPython.core.display.Math object>"
      ]
     },
     "metadata": {},
     "output_type": "display_data"
    }
   ],
   "source": [
    "#INEQUALITIES\n",
    "x = sym.symbols('x')\n",
    " \n",
    "ineq = 4*x > 8\n",
    "display(Math(sym.latex(sym.solve(ineq))))\n",
    "infinity = sym.oo"
   ]
  },
  {
   "cell_type": "code",
   "execution_count": 4,
   "id": "c7409b3a",
   "metadata": {},
   "outputs": [
    {
     "data": {
      "text/latex": [
       "$\\displaystyle a x > \\frac{b^{2}}{c}$"
      ],
      "text/plain": [
       "<IPython.core.display.Math object>"
      ]
     },
     "metadata": {},
     "output_type": "display_data"
    }
   ],
   "source": [
    "#INEQUALITIES CONSISTING MORE THAN ONE UNKNOWN\n",
    "a,b,c=sym.symbols('a b c')\n",
    "ineq2 = a*x > b**2/c\n",
    "display(Math(sym.latex(sym.solve(ineq2,x)))) #solve for x"
   ]
  },
  {
   "cell_type": "code",
   "execution_count": 7,
   "id": "60b99c8c",
   "metadata": {},
   "outputs": [
    {
     "data": {
      "text/latex": [
       "$\\displaystyle x \\geq \\frac{22}{17} \\Longleftrightarrow \\frac{22}{17} \\leq x \\wedge x < \\infty$"
      ],
      "text/plain": [
       "<IPython.core.display.Math object>"
      ]
     },
     "metadata": {},
     "output_type": "display_data"
    }
   ],
   "source": [
    "#EXERCISE\n",
    "ineq3=(3*x)/2+(4-5*x)/3 <= 2 - (5*(2-x))/4\n",
    "display(Math(\"%s \\\\Longleftrightarrow %s\" %(sym.latex(sym.simplify(ineq3)),sym.latex(sym.solve(ineq3,x)))))\n"
   ]
  }
 ],
 "metadata": {
  "kernelspec": {
   "display_name": "Python 3",
   "language": "python",
   "name": "python3"
  },
  "language_info": {
   "codemirror_mode": {
    "name": "ipython",
    "version": 3
   },
   "file_extension": ".py",
   "mimetype": "text/x-python",
   "name": "python",
   "nbconvert_exporter": "python",
   "pygments_lexer": "ipython3",
   "version": "3.11.0"
  }
 },
 "nbformat": 4,
 "nbformat_minor": 5
}
