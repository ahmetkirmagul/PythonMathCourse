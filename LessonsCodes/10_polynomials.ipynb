{
 "cells": [
  {
   "cell_type": "code",
   "execution_count": 29,
   "id": "9f8a68f5",
   "metadata": {},
   "outputs": [],
   "source": [
    "import sympy as sym\n",
    "from IPython.display import display,Math\n",
    "from sympy.abc import x,y"
   ]
  },
  {
   "cell_type": "code",
   "execution_count": 30,
   "id": "90171790",
   "metadata": {},
   "outputs": [
    {
     "data": {
      "text/latex": [
       "$\\displaystyle (2 x^{3} + x^{2} - x) + (- x^{4} + x^{3} - 4 x^{2}) = - x^{4} + 3 x^{3} - 3 x^{2} - x$"
      ],
      "text/plain": [
       "<IPython.core.display.Math object>"
      ]
     },
     "metadata": {},
     "output_type": "display_data"
    }
   ],
   "source": [
    "#BASIC POLINOM+POLINOM\n",
    "p1 = 2*x**3 + x**2 - x\n",
    "p2 = x**3 - x**4 - 4*x**2\n",
    "\n",
    "display(Math(\"(%s) + (%s) = %s\" %(sym.latex(p1),sym.latex(p2),sym.latex(p1+p2))))"
   ]
  },
  {
   "cell_type": "code",
   "execution_count": 31,
   "id": "12fe3d21",
   "metadata": {},
   "outputs": [
    {
     "data": {
      "text/plain": [
       "[2, 1, -1]"
      ]
     },
     "execution_count": 31,
     "metadata": {},
     "output_type": "execute_result"
    }
   ],
   "source": [
    "#sym.poly METHOD\n",
    "p3 = sym.Poly(2*x**3 + x**2 - x)\n",
    "p3.eval(1) #1 için hesapla\n",
    "p3.coeffs() #polinomun katsayılarını Array olarak verir (katsayıları büyükten küçüğe sıralayıp)"
   ]
  },
  {
   "cell_type": "code",
   "execution_count": 32,
   "id": "f96f6546",
   "metadata": {},
   "outputs": [
    {
     "data": {
      "text/latex": [
       "$\\displaystyle (x^{2} + 2 x) \\text{ is even so the sum of its coefficients} = 3$"
      ],
      "text/plain": [
       "<IPython.core.display.Math object>"
      ]
     },
     "metadata": {},
     "output_type": "display_data"
    },
    {
     "data": {
      "text/latex": [
       "$\\displaystyle (- x^{3} + 4 x)\\text{ is odd so the count of its coefficients} = 2$"
      ],
      "text/plain": [
       "<IPython.core.display.Math object>"
      ]
     },
     "metadata": {},
     "output_type": "display_data"
    },
    {
     "data": {
      "text/latex": [
       "$\\displaystyle (x^{5} - x^{4} + \\frac{x}{4} + 4)\\text{ is odd so the count of its coefficients} = 4$"
      ],
      "text/plain": [
       "<IPython.core.display.Math object>"
      ]
     },
     "metadata": {},
     "output_type": "display_data"
    }
   ],
   "source": [
    "#Exercise: IF THE DEGREE IS EVEN SUM THE COEFFICENTS, IF ODD THEN COUNT\n",
    "\n",
    "p4 = sym.Poly(x**2 + 2*x)\n",
    "p5 = sym.Poly(-x**3 + 4*x)\n",
    "p6 = sym.Poly(x**5 - x**4 + x/4 +4)\n",
    "listOfPolynomials = [p4,p5,p6]\n",
    "\n",
    "for p in listOfPolynomials:\n",
    "    if p.degree()%2==0:#Checking if the largest(first) power is odd or even\n",
    "        display(Math(\"(%s) \\\\text{ is even so the sum of its coefficients} = %s\" %(sym.latex(p.as_expr()),sym.latex(sum(p.coeffs())))))\n",
    "    else:\n",
    "        display(Math(\"(%s)\\\\text{ is odd so the count of its coefficients} = %s\" %(sym.latex(p.as_expr()),sym.latex(len(p.coeffs())))))\n"
   ]
  },
  {
   "cell_type": "code",
   "execution_count": null,
   "id": "0c180e6f",
   "metadata": {},
   "outputs": [
    {
     "data": {
      "text/latex": [
       "$\\displaystyle (4 x^{4} - 3 x^{2} + x y^{2} - 9 y^{3}) \\times (- x^{3} + 6 x^{2} y + 0.8 y^{3}) = - 4 x^{7} + 24 x^{6} y + 3 x^{5} + 3.2 x^{4} y^{3} - x^{4} y^{2} - 18 x^{4} y + 15 x^{3} y^{3} - 54 x^{2} y^{4} - 2.4 x^{2} y^{3} + 0.8 x y^{5} - 7.2 y^{6} $"
      ],
      "text/plain": [
       "<IPython.core.display.Math object>"
      ]
     },
     "metadata": {},
     "output_type": "display_data"
    },
    {
     "data": {
      "text/latex": [
       "$\\displaystyle (2517) \\times (-431.4) = -1085833.8 $"
      ],
      "text/plain": [
       "<IPython.core.display.Math object>"
      ]
     },
     "metadata": {},
     "output_type": "display_data"
    }
   ],
   "source": [
    "#MULTIPLYING POLYNOMIALS\n",
    "p7 = 4*x**4 - 3*x**2 + x*y**2 - 9*y**3\n",
    "p8 = -x**3 + 6*x**2*y + 0.8*y**3\n",
    "\n",
    "p9=p7*p8 #çarp\n",
    "display(Math(\"(%s) \\\\times (%s) = %s \"%(sym.latex(p7),sym.latex(p8),sym.latex(sym.expand(p9)))))\n",
    "display(Math(\"(%s) \\\\times (%s) = %s \"%(sym.latex(p7.subs({x:5,y:-2})),sym.latex(p8.subs({x:5,y:-2})),sym.latex(p9.subs({x:5,y:-2})))))"
   ]
  },
  {
   "cell_type": "code",
   "execution_count": 47,
   "id": "e869fd1f",
   "metadata": {},
   "outputs": [
    {
     "data": {
      "text/latex": [
       "$\\displaystyle \\frac{4 x^{5} - x}{2 x^{3} - x} = \\frac{4 x^{5} - x}{2 x^{3} - x}$"
      ],
      "text/plain": [
       "<IPython.core.display.Math object>"
      ]
     },
     "metadata": {},
     "output_type": "display_data"
    },
    {
     "data": {
      "text/latex": [
       "$\\displaystyle \\frac{4 x^{5} - x}{2 x^{3} - x} = \\frac{4 x^{5}}{2 x^{3} - x} - \\frac{x}{2 x^{3} - x}$"
      ],
      "text/plain": [
       "<IPython.core.display.Math object>"
      ]
     },
     "metadata": {},
     "output_type": "display_data"
    },
    {
     "data": {
      "text/latex": [
       "$\\displaystyle \\frac{4 x^{5} - x}{2 x^{3} - x} = 2 x^{2} + 1$"
      ],
      "text/plain": [
       "<IPython.core.display.Math object>"
      ]
     },
     "metadata": {},
     "output_type": "display_data"
    }
   ],
   "source": [
    "#DIVIDING POLYNOMIALS\n",
    "\n",
    "p10 = 4*x**5 - x\n",
    "p11 = 2*x**3 - x\n",
    "\n",
    "display(Math('\\\\frac{%s}{%s} = %s'%(sym.latex(p10),sym.latex(p11),sym.latex(p10/p11))))\n",
    "display(Math('\\\\frac{%s}{%s} = %s'%(sym.latex(p10),sym.latex(p11),sym.latex(sym.expand(p10/p11)))))\n",
    "display(Math('\\\\frac{%s}{%s} = %s'%(sym.latex(p10),sym.latex(p11),sym.latex(sym.simplify(p10/p11)))))"
   ]
  },
  {
   "cell_type": "code",
   "execution_count": null,
   "id": "40e30371",
   "metadata": {},
   "outputs": [
    {
     "data": {
      "text/latex": [
       "$\\displaystyle \\frac{x^{6} + 2 x^{4} + 6 x - 5}{x^{3} + 3}$"
      ],
      "text/plain": [
       "<IPython.core.display.Math object>"
      ]
     },
     "metadata": {},
     "output_type": "display_data"
    },
    {
     "data": {
      "text/latex": [
       "$\\displaystyle \\frac{x^{6} + 2 x^{4} + 6 x - 6}{x^{3} + 3}$"
      ],
      "text/plain": [
       "<IPython.core.display.Math object>"
      ]
     },
     "metadata": {},
     "output_type": "display_data"
    },
    {
     "data": {
      "text/latex": [
       "$\\displaystyle \\frac{x^{6} + 2 x^{4} + 6 x - 7}{x^{3} + 3}$"
      ],
      "text/plain": [
       "<IPython.core.display.Math object>"
      ]
     },
     "metadata": {},
     "output_type": "display_data"
    },
    {
     "data": {
      "text/latex": [
       "$\\displaystyle \\frac{x^{6} + 2 x^{4} + 6 x - 8}{x^{3} + 3}$"
      ],
      "text/plain": [
       "<IPython.core.display.Math object>"
      ]
     },
     "metadata": {},
     "output_type": "display_data"
    },
    {
     "data": {
      "text/latex": [
       "$\\displaystyle x^{3} + 2 x - 3$"
      ],
      "text/plain": [
       "<IPython.core.display.Math object>"
      ]
     },
     "metadata": {},
     "output_type": "display_data"
    },
    {
     "data": {
      "text/latex": [
       "$\\displaystyle (\\frac{x^{6} + 2 x^{4} + 6 x - y}{x^{3} + 3})\\text{'s denominator vanishes when y }= 9$"
      ],
      "text/plain": [
       "<IPython.core.display.Math object>"
      ]
     },
     "metadata": {},
     "output_type": "display_data"
    },
    {
     "data": {
      "text/latex": [
       "$\\displaystyle \\frac{x^{6} + 2 x^{4} + 6 x - 10}{x^{3} + 3}$"
      ],
      "text/plain": [
       "<IPython.core.display.Math object>"
      ]
     },
     "metadata": {},
     "output_type": "display_data"
    },
    {
     "data": {
      "text/latex": [
       "$\\displaystyle \\frac{x^{6} + 2 x^{4} + 6 x - 11}{x^{3} + 3}$"
      ],
      "text/plain": [
       "<IPython.core.display.Math object>"
      ]
     },
     "metadata": {},
     "output_type": "display_data"
    },
    {
     "data": {
      "text/latex": [
       "$\\displaystyle \\frac{x^{6} + 2 x^{4} + 6 x - 12}{x^{3} + 3}$"
      ],
      "text/plain": [
       "<IPython.core.display.Math object>"
      ]
     },
     "metadata": {},
     "output_type": "display_data"
    },
    {
     "data": {
      "text/latex": [
       "$\\displaystyle \\frac{x^{6} + 2 x^{4} + 6 x - 13}{x^{3} + 3}$"
      ],
      "text/plain": [
       "<IPython.core.display.Math object>"
      ]
     },
     "metadata": {},
     "output_type": "display_data"
    },
    {
     "data": {
      "text/latex": [
       "$\\displaystyle \\frac{x^{6} + 2 x^{4} + 6 x - 14}{x^{3} + 3}$"
      ],
      "text/plain": [
       "<IPython.core.display.Math object>"
      ]
     },
     "metadata": {},
     "output_type": "display_data"
    },
    {
     "data": {
      "text/latex": [
       "$\\displaystyle \\frac{x^{6} + 2 x^{4} + 6 x - 15}{x^{3} + 3}$"
      ],
      "text/plain": [
       "<IPython.core.display.Math object>"
      ]
     },
     "metadata": {},
     "output_type": "display_data"
    }
   ],
   "source": [
    "#PAYDA NE ZAMAN YOK OLUR?\n",
    "pNum = x**6 + 2*x**4 + 6*x -y\n",
    "pDen = x**3 + 3\n",
    "\n",
    "for i in range(5,16): #5 ile 15 arasındaki y değerleri için deneyeceğiz\n",
    "    bolum = pNum.subs({y:i}) / pDen\n",
    "    display(Math(sym.latex(sym.simplify(bolum))))\n",
    "    if sym.fraction(sym.simplify(bolum))[1]==1:#PAYDA 1 ISE\n",
    "        display(Math(\"(%s)\\\\text{'s denominator vanishes when y }= %g\" %(sym.latex(pNum/pDen),i)))"
   ]
  },
  {
   "cell_type": "code",
   "execution_count": 75,
   "id": "d906653c",
   "metadata": {},
   "outputs": [
    {
     "data": {
      "text/latex": [
       "$\\displaystyle \\operatorname{Poly}{\\left( x^{5} - x^{4} + \\frac{1}{4} x + 4, x, domain=\\mathbb{Q} \\right)}$"
      ],
      "text/plain": [
       "<IPython.core.display.Math object>"
      ]
     },
     "metadata": {},
     "output_type": "display_data"
    },
    {
     "data": {
      "text/latex": [
       "$\\displaystyle 2 x^{3} y + 2 x^{2} y + 4 x^{2} - 6 x y + 6 x = 2 x \\left(x^{2} y + x y + 2 x - 3 y + 3\\right)$"
      ],
      "text/plain": [
       "<IPython.core.display.Math object>"
      ]
     },
     "metadata": {},
     "output_type": "display_data"
    },
    {
     "name": "stdout",
     "output_type": "stream",
     "text": [
      "Its not factorable...\n",
      "This polynomial is factorable\n"
     ]
    }
   ],
   "source": [
    "#FACTORING POLYNOMIALS\n",
    "\n",
    "def determineFact(p):\n",
    "    if str(sym.latex(sym.factor(p))).find(\"(\")>0:\n",
    "        print(\"This polynomial is factorable\")\n",
    "    else:\n",
    "        print(\"Its not factorable...\")\n",
    "\n",
    "p12 = x**2 + 4*x -3\n",
    "display(Math(sym.latex(sym.factor(p))))#not factorable\n",
    "\n",
    "p13 = 2*x**3*y - 2*x**2 + 2*x**2*y + 6*x**2 - 6*x*y +6*x\n",
    "display(Math(\"%s = %s\"%(sym.latex(p13),sym.latex(sym.factor(p13)))))\n",
    "\n",
    "determineFact(p12)\n",
    "determineFact(p13)\n",
    "\n",
    "#Determining if a polynomial is factorable or not!\n"
   ]
  }
 ],
 "metadata": {
  "kernelspec": {
   "display_name": "Python 3",
   "language": "python",
   "name": "python3"
  },
  "language_info": {
   "codemirror_mode": {
    "name": "ipython",
    "version": 3
   },
   "file_extension": ".py",
   "mimetype": "text/x-python",
   "name": "python",
   "nbconvert_exporter": "python",
   "pygments_lexer": "ipython3",
   "version": "3.11.0"
  }
 },
 "nbformat": 4,
 "nbformat_minor": 5
}
