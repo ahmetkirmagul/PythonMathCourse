{
 "cells": [
  {
   "cell_type": "code",
   "execution_count": 1,
   "id": "3da6a718",
   "metadata": {},
   "outputs": [
    {
     "data": {
      "text/latex": [
       "$\\displaystyle - 2 q + 2 + \\frac{3}{q}$"
      ],
      "text/plain": [
       "<IPython.core.display.Math object>"
      ]
     },
     "metadata": {},
     "output_type": "display_data"
    }
   ],
   "source": [
    "import sympy as sym\n",
    "from IPython.display import display,Math\n",
    "\n",
    "q = sym.symbols('q')\n",
    "expr1 = 3*q + 4/q +3 -5*q -1/q -1\n",
    "\n",
    "display(Math(sym.latex(expr1)))"
   ]
  },
  {
   "cell_type": "code",
   "execution_count": 10,
   "id": "a2a94e1b",
   "metadata": {},
   "outputs": [
    {
     "data": {
      "text/latex": [
       "$\\displaystyle 3 q^{2} + 2 q - \\frac{5}{q} - \\frac{4}{q^{3}}$"
      ],
      "text/plain": [
       "<IPython.core.display.Math object>"
      ]
     },
     "metadata": {},
     "output_type": "display_data"
    },
    {
     "data": {
      "text/latex": [
       "$\\displaystyle 3 q^{2} + 2 q - \\frac{5}{q} - \\frac{4}{q^{3}}$"
      ],
      "text/plain": [
       "<IPython.core.display.Math object>"
      ]
     },
     "metadata": {},
     "output_type": "display_data"
    },
    {
     "data": {
      "text/latex": [
       "$\\displaystyle \\frac{3 q^{5} + 2 q^{4} - 5 q^{2} - 4}{q^{3}}$"
      ],
      "text/plain": [
       "<IPython.core.display.Math object>"
      ]
     },
     "metadata": {},
     "output_type": "display_data"
    },
    {
     "data": {
      "text/latex": [
       "$\\displaystyle \\frac{\\sqrt{15} q + \\sqrt{3}}{\\sqrt{10} q + \\sqrt{2}}$"
      ],
      "text/plain": [
       "<IPython.core.display.Math object>"
      ]
     },
     "metadata": {},
     "output_type": "display_data"
    },
    {
     "data": {
      "text/latex": [
       "$\\displaystyle \\frac{\\sqrt{6}}{2}$"
      ],
      "text/plain": [
       "<IPython.core.display.Math object>"
      ]
     },
     "metadata": {},
     "output_type": "display_data"
    },
    {
     "data": {
      "text/latex": [
       "$\\displaystyle 1.22474487139159$"
      ],
      "text/plain": [
       "1.22474487139159"
      ]
     },
     "execution_count": 10,
     "metadata": {},
     "output_type": "execute_result"
    }
   ],
   "source": [
    "expr2 = 2*q + 3*q**2 -5/q -4/q**3\n",
    "display(Math(sym.latex(expr2)))\n",
    "display(Math(sym.latex(sym.simplify(expr2))))#sadeleştirme\n",
    "display(Math(sym.latex(sym.cancel(expr2))))#ortak paydada yazma\n",
    "\n",
    "expr3 =(sym.sqrt(15)*q + sym.sqrt(3)) / (sym.sqrt(10)*q+sym.sqrt(2))\n",
    "display(Math(sym.latex(expr3)))\n",
    "display(Math(sym.latex(sym.simplify(expr3))))\n",
    "expr3.subs(q,10).evalf()#substitute=yerine koyma, evalf decimal olarak hesapla"
   ]
  },
  {
   "cell_type": "code",
   "execution_count": 11,
   "id": "c2d1290e",
   "metadata": {},
   "outputs": [
    {
     "name": "stdout",
     "output_type": "stream",
     "text": [
      "Variable   Type        Data/Info\n",
      "--------------------------------\n",
      "Math       type        <class 'IPython.core.display.Math'>\n",
      "display    function    <function display at 0x000002004729F560>\n",
      "expr1      Add         -2*q + 2 + 3/q\n",
      "expr2      Add         3*q**2 + 2*q - 5/q - 4/q**3\n",
      "expr3      Mul         (sqrt(15)*q + sqrt(3))/(sqrt(10)*q + sqrt(2))\n",
      "q          Symbol      q\n",
      "sym        module      <module 'sympy' from 'c:\\<...>ges\\\\sympy\\\\__init__.py'>\n"
     ]
    }
   ],
   "source": [
    "%whos"
   ]
  }
 ],
 "metadata": {
  "kernelspec": {
   "display_name": "Python 3",
   "language": "python",
   "name": "python3"
  },
  "language_info": {
   "codemirror_mode": {
    "name": "ipython",
    "version": 3
   },
   "file_extension": ".py",
   "mimetype": "text/x-python",
   "name": "python",
   "nbconvert_exporter": "python",
   "pygments_lexer": "ipython3",
   "version": "3.11.0"
  }
 },
 "nbformat": 4,
 "nbformat_minor": 5
}
