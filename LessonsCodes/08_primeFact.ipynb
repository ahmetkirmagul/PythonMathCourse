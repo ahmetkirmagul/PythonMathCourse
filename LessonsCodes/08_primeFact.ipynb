{
 "cells": [
  {
   "cell_type": "code",
   "execution_count": null,
   "id": "d2ad53ff",
   "metadata": {},
   "outputs": [
    {
     "name": "stdout",
     "output_type": "stream",
     "text": [
      "{2: 2, 3: 3}\n"
     ]
    }
   ],
   "source": [
    "import sympy as sym\n",
    "from IPython.display import display,Math\n",
    "\n",
    "#PRIME FACTORIZATION\n",
    "number=108\n",
    "\n",
    "fact_dict = sym.factorint(number)\n",
    "print(fact_dict)"
   ]
  },
  {
   "cell_type": "code",
   "execution_count": null,
   "id": "7d4f615f",
   "metadata": {},
   "outputs": [
    {
     "name": "stdout",
     "output_type": "stream",
     "text": [
      "2 is a prime number\n",
      "3 is a prime number\n",
      "4 is a composite number with prime factors[2]\n",
      "5 is a prime number\n",
      "6 is a composite number with prime factors[2, 3]\n",
      "7 is a prime number\n",
      "8 is a composite number with prime factors[2]\n",
      "9 is a composite number with prime factors[3]\n"
     ]
    }
   ],
   "source": [
    "#PRIME FACTORIZATION MACHINE\n",
    "nums = range(2,10)\n",
    "\n",
    "for i in nums:\n",
    "    di = sym.factorint(i) #asal çarpanlarına ayırır sonucu dict olarak verir\n",
    "    #dictionary'deki keyler asal çarpanlar value'lar da üsleridir.\n",
    "    if len(di)==1 and di[list(di.keys())[0]]==1: ##asal çarpan sayısı 1 ise ve üssü de bir ise asal\n",
    "        print(f\"{i} is a prime number\")\n",
    "    else:\n",
    "        print(f\"{i} is a composite number with prime factors{list(sym.factorint(i).keys())}\")"
   ]
  }
 ],
 "metadata": {
  "kernelspec": {
   "display_name": "Python 3",
   "language": "python",
   "name": "python3"
  },
  "language_info": {
   "codemirror_mode": {
    "name": "ipython",
    "version": 3
   },
   "file_extension": ".py",
   "mimetype": "text/x-python",
   "name": "python",
   "nbconvert_exporter": "python",
   "pygments_lexer": "ipython3",
   "version": "3.11.0"
  }
 },
 "nbformat": 4,
 "nbformat_minor": 5
}
