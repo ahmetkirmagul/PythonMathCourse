{
 "cells": [
  {
   "cell_type": "code",
   "execution_count": null,
   "id": "3da471d6",
   "metadata": {},
   "outputs": [
    {
     "data": {
      "text/latex": [
       "$\\displaystyle 3x \\times (4+y) = ?$"
      ],
      "text/plain": [
       "<IPython.core.display.Math object>"
      ]
     },
     "metadata": {},
     "output_type": "display_data"
    },
    {
     "data": {
      "text/latex": [
       "$\\displaystyle 3 \\times 7 \\times (4+-2) = 42$"
      ],
      "text/plain": [
       "<IPython.core.display.Math object>"
      ]
     },
     "metadata": {},
     "output_type": "display_data"
    },
    {
     "data": {
      "text/latex": [
       "$\\displaystyle y - \\frac{(x+3)}{z} = ?$"
      ],
      "text/plain": [
       "<IPython.core.display.Math object>"
      ]
     },
     "metadata": {},
     "output_type": "display_data"
    },
    {
     "data": {
      "text/latex": [
       "$\\displaystyle -2 - \\frac{(7+3)}{5} = 0$"
      ],
      "text/plain": [
       "<IPython.core.display.Math object>"
      ]
     },
     "metadata": {},
     "output_type": "display_data"
    }
   ],
   "source": [
    "from IPython.display import display, Math\n",
    "x,y,z=7,-2,5\n",
    "display(Math('3x \\\\times (4+y) = ?'))\n",
    "display(Math('3 \\\\times %g \\\\times (4+%g) = %g' %(x,y,3*x*(4+y))))\n",
    "\n",
    "display(Math('y - \\\\frac{(x+3)}{z} = ?'))\n",
    "display(Math('%g - \\\\frac{(%g+3)}{%g} = %g' %(y,x,z,-y- (x+3) / z)))"
   ]
  },
  {
   "cell_type": "code",
   "execution_count": null,
   "id": "bb7e1561",
   "metadata": {},
   "outputs": [
    {
     "data": {
      "text/latex": [
       "$\\displaystyle x^{\\frac{3}{4}} \\times 4^y =$"
      ],
      "text/plain": [
       "<IPython.core.display.Math object>"
      ]
     },
     "metadata": {},
     "output_type": "display_data"
    },
    {
     "data": {
      "text/latex": [
       "$\\displaystyle 5^{\\frac{3}{4}} \\times 4^5.1 =3933.09$"
      ],
      "text/plain": [
       "<IPython.core.display.Math object>"
      ]
     },
     "metadata": {},
     "output_type": "display_data"
    },
    {
     "data": {
      "text/latex": [
       "$\\displaystyle \\frac{3^3}{x^y} = $"
      ],
      "text/plain": [
       "<IPython.core.display.Math object>"
      ]
     },
     "metadata": {},
     "output_type": "display_data"
    },
    {
     "data": {
      "text/latex": [
       "$\\displaystyle \\frac{3^3}{5^5.1} = 0.00735558$"
      ],
      "text/plain": [
       "<IPython.core.display.Math object>"
      ]
     },
     "metadata": {},
     "output_type": "display_data"
    },
    {
     "data": {
      "text/latex": [
       "$\\displaystyle 10^{x-4}=$"
      ],
      "text/plain": [
       "<IPython.core.display.Math object>"
      ]
     },
     "metadata": {},
     "output_type": "display_data"
    },
    {
     "data": {
      "text/latex": [
       "$\\displaystyle 10^{5-4}=10$"
      ],
      "text/plain": [
       "<IPython.core.display.Math object>"
      ]
     },
     "metadata": {},
     "output_type": "display_data"
    }
   ],
   "source": [
    "x,y=5,5.1\n",
    "display(Math('x^{\\\\frac{3}{4}} \\\\times 4^y ='))\n",
    "display(Math('%g^{\\\\frac{3}{4}} \\\\times 4^%g =%g' %(x,y,(x**(3/4)) * 4**y)))\n",
    "\n",
    "display(Math('\\\\frac{3^3}{x^y} = '))\n",
    "display(Math('\\\\frac{3^3}{%g^%g} = %g' %(x,y,(3**3) / (x**y))))\n",
    "\n",
    "display(Math('10^{x-4}='))\n",
    "display(Math('10^{%g-4}=%g' %(x, 10**(x-4))))"
   ]
  },
  {
   "cell_type": "code",
   "execution_count": null,
   "id": "3c9f603b",
   "metadata": {},
   "outputs": [
    {
     "data": {
      "text/latex": [
       "$\\displaystyle 1^{-1} = 1$"
      ],
      "text/plain": [
       "<IPython.core.display.Math object>"
      ]
     },
     "metadata": {},
     "output_type": "display_data"
    },
    {
     "data": {
      "text/latex": [
       "$\\displaystyle 1^{-2} = 1$"
      ],
      "text/plain": [
       "<IPython.core.display.Math object>"
      ]
     },
     "metadata": {},
     "output_type": "display_data"
    },
    {
     "data": {
      "text/latex": [
       "$\\displaystyle 1^{-3} = 1$"
      ],
      "text/plain": [
       "<IPython.core.display.Math object>"
      ]
     },
     "metadata": {},
     "output_type": "display_data"
    },
    {
     "data": {
      "text/latex": [
       "$\\displaystyle 1^{-4} = 1$"
      ],
      "text/plain": [
       "<IPython.core.display.Math object>"
      ]
     },
     "metadata": {},
     "output_type": "display_data"
    },
    {
     "data": {
      "text/latex": [
       "$\\displaystyle 2^{-1} = 0.5$"
      ],
      "text/plain": [
       "<IPython.core.display.Math object>"
      ]
     },
     "metadata": {},
     "output_type": "display_data"
    },
    {
     "data": {
      "text/latex": [
       "$\\displaystyle 2^{-2} = 0.25$"
      ],
      "text/plain": [
       "<IPython.core.display.Math object>"
      ]
     },
     "metadata": {},
     "output_type": "display_data"
    },
    {
     "data": {
      "text/latex": [
       "$\\displaystyle 2^{-3} = 0.125$"
      ],
      "text/plain": [
       "<IPython.core.display.Math object>"
      ]
     },
     "metadata": {},
     "output_type": "display_data"
    },
    {
     "data": {
      "text/latex": [
       "$\\displaystyle 2^{-4} = 0.0625$"
      ],
      "text/plain": [
       "<IPython.core.display.Math object>"
      ]
     },
     "metadata": {},
     "output_type": "display_data"
    },
    {
     "data": {
      "text/latex": [
       "$\\displaystyle 3^{-1} = 0.333333$"
      ],
      "text/plain": [
       "<IPython.core.display.Math object>"
      ]
     },
     "metadata": {},
     "output_type": "display_data"
    },
    {
     "data": {
      "text/latex": [
       "$\\displaystyle 3^{-2} = 0.111111$"
      ],
      "text/plain": [
       "<IPython.core.display.Math object>"
      ]
     },
     "metadata": {},
     "output_type": "display_data"
    },
    {
     "data": {
      "text/latex": [
       "$\\displaystyle 3^{-3} = 0.037037$"
      ],
      "text/plain": [
       "<IPython.core.display.Math object>"
      ]
     },
     "metadata": {},
     "output_type": "display_data"
    },
    {
     "data": {
      "text/latex": [
       "$\\displaystyle 3^{-4} = 0.0123457$"
      ],
      "text/plain": [
       "<IPython.core.display.Math object>"
      ]
     },
     "metadata": {},
     "output_type": "display_data"
    }
   ],
   "source": [
    "for i in range(0,4):\n",
    "    for j in range(0,5):\n",
    "        if i>0 and j>0:\n",
    "            display(Math('%g^{%g} = %g' %(i,-j,i**-j)))"
   ]
  },
  {
   "cell_type": "code",
   "execution_count": null,
   "id": "c0faff71",
   "metadata": {},
   "outputs": [
    {
     "data": {
      "text/latex": [
       "$\\displaystyle |6| = 6$"
      ],
      "text/plain": [
       "<IPython.core.display.Math object>"
      ]
     },
     "metadata": {},
     "output_type": "display_data"
    },
    {
     "data": {
      "text/latex": [
       "$\\displaystyle |43| = 43$"
      ],
      "text/plain": [
       "<IPython.core.display.Math object>"
      ]
     },
     "metadata": {},
     "output_type": "display_data"
    },
    {
     "data": {
      "text/latex": [
       "$\\displaystyle |-18| = 18$"
      ],
      "text/plain": [
       "<IPython.core.display.Math object>"
      ]
     },
     "metadata": {},
     "output_type": "display_data"
    }
   ],
   "source": [
    "numberSet= (-4,6,-1,43,-18,2,0)\n",
    "for x in numberSet:\n",
    "    if x<-5 or x>2:\n",
    "        display(Math('|%g| = %g'%(x,abs(x))))"
   ]
  },
  {
   "cell_type": "code",
   "execution_count": null,
   "id": "48c0ec57",
   "metadata": {},
   "outputs": [
    {
     "data": {
      "text/plain": [
       "'-5  is an odd number.'"
      ]
     },
     "metadata": {},
     "output_type": "display_data"
    },
    {
     "data": {
      "text/plain": [
       "'-4  is an even number.'"
      ]
     },
     "metadata": {},
     "output_type": "display_data"
    },
    {
     "data": {
      "text/plain": [
       "'-3  is an odd number.'"
      ]
     },
     "metadata": {},
     "output_type": "display_data"
    },
    {
     "data": {
      "text/plain": [
       "'-2  is an even number.'"
      ]
     },
     "metadata": {},
     "output_type": "display_data"
    },
    {
     "data": {
      "text/plain": [
       "'-1  is an odd number.'"
      ]
     },
     "metadata": {},
     "output_type": "display_data"
    },
    {
     "data": {
      "text/plain": [
       "' 0  is an even number.'"
      ]
     },
     "metadata": {},
     "output_type": "display_data"
    },
    {
     "data": {
      "text/plain": [
       "' 1  is an odd number.'"
      ]
     },
     "metadata": {},
     "output_type": "display_data"
    },
    {
     "data": {
      "text/plain": [
       "' 2  is an even number.'"
      ]
     },
     "metadata": {},
     "output_type": "display_data"
    },
    {
     "data": {
      "text/plain": [
       "' 3  is an odd number.'"
      ]
     },
     "metadata": {},
     "output_type": "display_data"
    },
    {
     "data": {
      "text/plain": [
       "' 4  is an even number.'"
      ]
     },
     "metadata": {},
     "output_type": "display_data"
    },
    {
     "data": {
      "text/plain": [
       "' 5  is an odd number.'"
      ]
     },
     "metadata": {},
     "output_type": "display_data"
    }
   ],
   "source": [
    "for x in range(-5,6):\n",
    "    if x<0:\n",
    "        firstChar= \"\"\n",
    "    else:\n",
    "        firstChar= \" \"\n",
    "\n",
    "    if x%2==0:\n",
    "        display('%s%g  is an even number.' %(firstChar,x))\n",
    "    else:\n",
    "        display('%s%g  is an odd number.' %(firstChar,x))\n",
    "\n"
   ]
  },
  {
   "cell_type": "code",
   "execution_count": null,
   "id": "e9c527af",
   "metadata": {},
   "outputs": [
    {
     "data": {
      "text/latex": [
       "$\\displaystyle \\frac{10}{3} = 3$"
      ],
      "text/plain": [
       "<IPython.core.display.Math object>"
      ]
     },
     "metadata": {},
     "output_type": "display_data"
    },
    {
     "data": {
      "text/plain": [
       "'and remainder is 1.'"
      ]
     },
     "metadata": {},
     "output_type": "display_data"
    }
   ],
   "source": [
    "def findRemainder(numerator,denominator):\n",
    "    division=float(numerator)//float(denominator)\n",
    "    remainder=float(numerator)%float(denominator)\n",
    "    return division,remainder\n",
    "\n",
    "x,y=float(input(\"Input numerator:\")),float(input(\"Input denominator:\"))\n",
    "(bolum, kalan) = findRemainder(x,y)\n",
    "\n",
    "display(Math('\\\\frac{%g}{%g} = %g'%(x,y,bolum)),'and remainder is %g.'%(kalan))"
   ]
  },
  {
   "cell_type": "code",
   "execution_count": null,
   "id": "78f0c31b",
   "metadata": {},
   "outputs": [
    {
     "name": "stdout",
     "output_type": "stream",
     "text": [
      "Error, You should write 1 or 2\n"
     ]
    }
   ],
   "source": [
    "def expo(x,y):\n",
    "    expo=x**y\n",
    "    display(Math('%g^%g=%g'%(x,y,expo)))\n",
    "    return expo\n",
    "\n",
    "def divis(x,y):\n",
    "    divis=x/y\n",
    "    display(Math('\\\\frac{%g}{%g} = %g'%(x,y,divis)))\n",
    "    return divis\n",
    "\n",
    "x,y,func = input(\"Input first number:\"), input(\"Input second number:\"), input(\"Type 1 for x^y, 2 for x/y\")\n",
    "if func==\"1\":\n",
    "    result = expo(float(x),float(y))\n",
    "elif func==\"2\":\n",
    "    result = divis(float(x),float(y))\n",
    "else:\n",
    "    print(\"Error, You should write 1 or 2\")\n"
   ]
  }
 ],
 "metadata": {
  "kernelspec": {
   "display_name": "Python 3",
   "language": "python",
   "name": "python3"
  },
  "language_info": {
   "codemirror_mode": {
    "name": "ipython",
    "version": 3
   },
   "file_extension": ".py",
   "mimetype": "text/x-python",
   "name": "python",
   "nbconvert_exporter": "python",
   "pygments_lexer": "ipython3",
   "version": "3.14.0"
  }
 },
 "nbformat": 4,
 "nbformat_minor": 5
}
